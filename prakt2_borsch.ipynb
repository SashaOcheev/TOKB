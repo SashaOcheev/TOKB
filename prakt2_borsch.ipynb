{
 "cells": [
  {
   "cell_type": "code",
   "execution_count": 1,
   "metadata": {},
   "outputs": [],
   "source": [
    "import numpy as np\n",
    "import random"
   ]
  },
  {
   "cell_type": "markdown",
   "metadata": {},
   "source": [
    "# Магический квадрат"
   ]
  },
  {
   "cell_type": "markdown",
   "metadata": {},
   "source": [
    "Размер магического квадрата"
   ]
  },
  {
   "cell_type": "code",
   "execution_count": 2,
   "metadata": {},
   "outputs": [],
   "source": [
    "phrase = 'Амилопектин состоит из молекул глюкозы'"
   ]
  },
  {
   "cell_type": "code",
   "execution_count": 3,
   "metadata": {},
   "outputs": [],
   "source": [
    "Size = 5"
   ]
  },
  {
   "cell_type": "markdown",
   "metadata": {},
   "source": [
    "## Создание Магического квадрата"
   ]
  },
  {
   "cell_type": "code",
   "execution_count": 4,
   "metadata": {},
   "outputs": [],
   "source": [
    "def createMagicSquare(size):\n",
    "    N = size\n",
    "    magic_square = np.zeros((N,N), dtype=int)\n",
    "\n",
    "    n = 1\n",
    "    i, j = 0, N//2\n",
    "\n",
    "    while n <= N**2:\n",
    "        magic_square[i, j] = n\n",
    "        n += 1\n",
    "        newi, newj = (i-1) % N, (j+1)% N\n",
    "        if magic_square[newi, newj]:\n",
    "            i += 1\n",
    "        else:\n",
    "            i, j = newi, newj\n",
    "    \n",
    "    return magic_square"
   ]
  },
  {
   "cell_type": "code",
   "execution_count": 5,
   "metadata": {},
   "outputs": [],
   "source": [
    "magicSquare = createMagicSquare(Size)"
   ]
  },
  {
   "cell_type": "code",
   "execution_count": 6,
   "metadata": {},
   "outputs": [
    {
     "data": {
      "text/plain": [
       "array([[17, 24,  1,  8, 15],\n",
       "       [23,  5,  7, 14, 16],\n",
       "       [ 4,  6, 13, 20, 22],\n",
       "       [10, 12, 19, 21,  3],\n",
       "       [11, 18, 25,  2,  9]])"
      ]
     },
     "execution_count": 6,
     "metadata": {},
     "output_type": "execute_result"
    }
   ],
   "source": [
    "magicSquare"
   ]
  },
  {
   "cell_type": "markdown",
   "metadata": {},
   "source": [
    "## Фраза"
   ]
  },
  {
   "cell_type": "markdown",
   "metadata": {},
   "source": [
    "Поскольку длина нашей фразы больше размерности квадрата,\n",
    "разобьем фразу на несколько квадратов"
   ]
  },
  {
   "cell_type": "code",
   "execution_count": 7,
   "metadata": {},
   "outputs": [],
   "source": [
    "def chunkstring(string, length):\n",
    "    return (string[0+i:length+i] for i in range(0, len(string), length))"
   ]
  },
  {
   "cell_type": "code",
   "execution_count": 8,
   "metadata": {},
   "outputs": [],
   "source": [
    "phrasesBlocks = list(chunkstring(phrase, Size**2))"
   ]
  },
  {
   "cell_type": "code",
   "execution_count": 9,
   "metadata": {},
   "outputs": [
    {
     "data": {
      "text/plain": [
       "['Амилопектин состоит из мо', 'лекул глюкозы']"
      ]
     },
     "execution_count": 9,
     "metadata": {},
     "output_type": "execute_result"
    }
   ],
   "source": [
    "phrasesBlocks"
   ]
  },
  {
   "cell_type": "markdown",
   "metadata": {},
   "source": [
    "## Подстановка в квадрат"
   ]
  },
  {
   "cell_type": "code",
   "execution_count": 10,
   "metadata": {},
   "outputs": [],
   "source": [
    "def turnInMagicSquare(square, phrase):\n",
    "    sz = len(square)\n",
    "    phraseSquare = np.empty((sz, sz), dtype='str')\n",
    "    for row in range(sz):\n",
    "        for col in range(sz):\n",
    "            phraseSquare[row][col] = phrase[square[row][col] - 1]\n",
    "    return phraseSquare"
   ]
  },
  {
   "cell_type": "code",
   "execution_count": 11,
   "metadata": {},
   "outputs": [],
   "source": [
    "cryptSquares = []\n",
    "for block in phrasesBlocks:\n",
    "    while len(block) < Size ** 2:\n",
    "        block += ' '\n",
    "    cryptSquares.append(turnInMagicSquare(magicSquare, block))"
   ]
  },
  {
   "cell_type": "code",
   "execution_count": 12,
   "metadata": {},
   "outputs": [
    {
     "data": {
      "text/plain": [
       "[array([['о', 'м', 'А', 'к', 'с'],\n",
       "        [' ', 'о', 'е', 'о', 'т'],\n",
       "        ['л', 'п', 'с', ' ', 'з'],\n",
       "        ['и', ' ', 'т', 'и', 'и'],\n",
       "        ['н', 'и', 'о', 'м', 'т']], dtype='<U1'),\n",
       " array([[' ', ' ', 'л', 'л', ' '],\n",
       "        [' ', 'л', 'г', ' ', ' '],\n",
       "        ['у', ' ', 'ы', ' ', ' '],\n",
       "        ['к', 'з', ' ', ' ', 'к'],\n",
       "        ['о', ' ', ' ', 'е', 'ю']], dtype='<U1')]"
      ]
     },
     "execution_count": 12,
     "metadata": {},
     "output_type": "execute_result"
    }
   ],
   "source": [
    "cryptSquares"
   ]
  },
  {
   "cell_type": "markdown",
   "metadata": {},
   "source": [
    "## Раскодировка"
   ]
  },
  {
   "cell_type": "code",
   "execution_count": 13,
   "metadata": {},
   "outputs": [],
   "source": [
    "decryptedBlocks = ''\n",
    "for crypted in cryptSquares:\n",
    "    decrBlock = ''\n",
    "    for decNum in range(Size**2):\n",
    "        num = decNum + 1\n",
    "        for i in range(Size):\n",
    "            for j in range(Size):\n",
    "                if magicSquare[i][j] == num:\n",
    "                    decrBlock += crypted[i][j]\n",
    "    decryptedBlocks += decrBlock"
   ]
  },
  {
   "cell_type": "code",
   "execution_count": 14,
   "metadata": {},
   "outputs": [
    {
     "name": "stdout",
     "output_type": "stream",
     "text": [
      "Амилопектин состоит из молекул глюкозы            \n"
     ]
    }
   ],
   "source": [
    "print(decryptedBlocks)"
   ]
  },
  {
   "cell_type": "markdown",
   "metadata": {},
   "source": [
    "# RSA"
   ]
  },
  {
   "cell_type": "code",
   "execution_count": 15,
   "metadata": {},
   "outputs": [],
   "source": [
    "p = 167\n",
    "q = 661\n",
    "word = 'Амилопектин'"
   ]
  },
  {
   "cell_type": "markdown",
   "metadata": {},
   "source": [
    "## Расширенный алгоритм Евклида"
   ]
  },
  {
   "cell_type": "code",
   "execution_count": 16,
   "metadata": {},
   "outputs": [],
   "source": [
    "def bezout(a, b):\n",
    "    '''An implementation of extended Euclidean algorithm.\n",
    "    Returns integer x, y and gcd(a, b) for Bezout equation:\n",
    "        ax + by = gcd(a, b).\n",
    "    '''\n",
    "    x, xx, y, yy = 1, 0, 0, 1\n",
    "    while b:\n",
    "        q = a // b\n",
    "        a, b = b, a % b\n",
    "        x, xx = xx, x - xx*q\n",
    "        y, yy = yy, y - yy*q\n",
    "    return (x, y, a)"
   ]
  },
  {
   "cell_type": "code",
   "execution_count": 17,
   "metadata": {},
   "outputs": [],
   "source": [
    "def calcEuler(p, q):\n",
    "    return (p - 1) * (q - 1)"
   ]
  },
  {
   "cell_type": "code",
   "execution_count": 18,
   "metadata": {},
   "outputs": [],
   "source": [
    "n = p * q"
   ]
  },
  {
   "cell_type": "code",
   "execution_count": 19,
   "metadata": {},
   "outputs": [],
   "source": [
    "def chooseE(n):\n",
    "    euler = calcEuler(p , q)\n",
    "    variants = [i for i in range(2, n - 1)]\n",
    "    length = len(variants)\n",
    "    while(length):\n",
    "        index = random.randint(0, length)\n",
    "        nod = bezout(euler, variants[index])[2]\n",
    "        if nod == 1:\n",
    "            return variants[index]\n",
    "        else:\n",
    "            del(variants[index])\n",
    "            length -= 1"
   ]
  },
  {
   "cell_type": "code",
   "execution_count": 20,
   "metadata": {},
   "outputs": [],
   "source": [
    "openKey = chooseE(n)"
   ]
  },
  {
   "cell_type": "code",
   "execution_count": 21,
   "metadata": {},
   "outputs": [
    {
     "data": {
      "text/plain": [
       "32777"
      ]
     },
     "execution_count": 21,
     "metadata": {},
     "output_type": "execute_result"
    }
   ],
   "source": [
    "openKey"
   ]
  },
  {
   "cell_type": "markdown",
   "metadata": {},
   "source": [
    "## Проверка e"
   ]
  },
  {
   "cell_type": "code",
   "execution_count": 22,
   "metadata": {},
   "outputs": [
    {
     "data": {
      "text/plain": [
       "1"
      ]
     },
     "execution_count": 22,
     "metadata": {},
     "output_type": "execute_result"
    }
   ],
   "source": [
    "bezout(openKey, calcEuler(p, q))[2]"
   ]
  },
  {
   "cell_type": "code",
   "execution_count": 23,
   "metadata": {},
   "outputs": [],
   "source": [
    "def chooseD(e):\n",
    "    euler = calcEuler(p , q)\n",
    "    bzt = bezout(euler, e)\n",
    "    if bzt[1] >= 0:\n",
    "        return bzt[1]\n",
    "    else:\n",
    "        return euler + bzt[1]"
   ]
  },
  {
   "cell_type": "code",
   "execution_count": 24,
   "metadata": {},
   "outputs": [],
   "source": [
    "closeKey = chooseD(openKey)"
   ]
  },
  {
   "cell_type": "code",
   "execution_count": 25,
   "metadata": {},
   "outputs": [
    {
     "data": {
      "text/plain": [
       "70913"
      ]
     },
     "execution_count": 25,
     "metadata": {},
     "output_type": "execute_result"
    }
   ],
   "source": [
    "closeKey"
   ]
  },
  {
   "cell_type": "markdown",
   "metadata": {},
   "source": [
    "## Проверка d "
   ]
  },
  {
   "cell_type": "code",
   "execution_count": 26,
   "metadata": {},
   "outputs": [
    {
     "data": {
      "text/plain": [
       "1"
      ]
     },
     "execution_count": 26,
     "metadata": {},
     "output_type": "execute_result"
    }
   ],
   "source": [
    "(openKey * closeKey) % calcEuler(p , q)"
   ]
  },
  {
   "cell_type": "markdown",
   "metadata": {},
   "source": [
    "## Шифрование"
   ]
  },
  {
   "cell_type": "code",
   "execution_count": 27,
   "metadata": {},
   "outputs": [],
   "source": [
    "codes = [ord(i) for i in word]"
   ]
  },
  {
   "cell_type": "code",
   "execution_count": 28,
   "metadata": {},
   "outputs": [
    {
     "data": {
      "text/plain": [
       "[1040, 1084, 1080, 1083, 1086, 1087, 1077, 1082, 1090, 1080, 1085]"
      ]
     },
     "execution_count": 28,
     "metadata": {},
     "output_type": "execute_result"
    }
   ],
   "source": [
    "codes"
   ]
  },
  {
   "cell_type": "code",
   "execution_count": 29,
   "metadata": {},
   "outputs": [],
   "source": [
    "crypted = [pow(i, openKey, n) for i in codes]"
   ]
  },
  {
   "cell_type": "code",
   "execution_count": 30,
   "metadata": {},
   "outputs": [
    {
     "data": {
      "text/plain": [
       "[102392, 23152, 65055, 97271, 40837, 106941, 57633, 42583, 8814, 65055, 55188]"
      ]
     },
     "execution_count": 30,
     "metadata": {},
     "output_type": "execute_result"
    }
   ],
   "source": [
    "crypted"
   ]
  },
  {
   "cell_type": "markdown",
   "metadata": {},
   "source": [
    "# Дешифрование"
   ]
  },
  {
   "cell_type": "code",
   "execution_count": 31,
   "metadata": {},
   "outputs": [],
   "source": [
    "decrypted = [pow(i, closeKey, n) for i in crypted]"
   ]
  },
  {
   "cell_type": "code",
   "execution_count": 32,
   "metadata": {},
   "outputs": [
    {
     "data": {
      "text/plain": [
       "[1040, 1084, 1080, 1083, 1086, 1087, 1077, 1082, 1090, 1080, 1085]"
      ]
     },
     "execution_count": 32,
     "metadata": {},
     "output_type": "execute_result"
    }
   ],
   "source": [
    "decrypted"
   ]
  },
  {
   "cell_type": "code",
   "execution_count": 33,
   "metadata": {},
   "outputs": [],
   "source": [
    "result = ''\n",
    "for i in decrypted:\n",
    "    result += chr(i)"
   ]
  },
  {
   "cell_type": "code",
   "execution_count": 34,
   "metadata": {},
   "outputs": [
    {
     "data": {
      "text/plain": [
       "'Амилопектин'"
      ]
     },
     "execution_count": 34,
     "metadata": {},
     "output_type": "execute_result"
    }
   ],
   "source": [
    "result"
   ]
  },
  {
   "cell_type": "code",
   "execution_count": null,
   "metadata": {},
   "outputs": [],
   "source": []
  }
 ],
 "metadata": {
  "kernelspec": {
   "display_name": "Python 3",
   "language": "python",
   "name": "python3"
  },
  "language_info": {
   "codemirror_mode": {
    "name": "ipython",
    "version": 3
   },
   "file_extension": ".py",
   "mimetype": "text/x-python",
   "name": "python",
   "nbconvert_exporter": "python",
   "pygments_lexer": "ipython3",
   "version": "3.6.4"
  }
 },
 "nbformat": 4,
 "nbformat_minor": 2
}
