{
 "cells": [
  {
   "cell_type": "code",
   "execution_count": 1,
   "metadata": {},
   "outputs": [],
   "source": [
    "import numpy as np\n",
    "import random"
   ]
  },
  {
   "cell_type": "markdown",
   "metadata": {},
   "source": [
    "# Магический квадрат"
   ]
  },
  {
   "cell_type": "markdown",
   "metadata": {},
   "source": [
    "Размер магического квадрата"
   ]
  },
  {
   "cell_type": "code",
   "execution_count": 2,
   "metadata": {},
   "outputs": [],
   "source": [
    "phrase = 'But if your life is such a big joke Why should I care?'"
   ]
  },
  {
   "cell_type": "code",
   "execution_count": 3,
   "metadata": {},
   "outputs": [],
   "source": [
    "Size = 5"
   ]
  },
  {
   "cell_type": "markdown",
   "metadata": {},
   "source": [
    "## Создание Магического квадрата"
   ]
  },
  {
   "cell_type": "code",
   "execution_count": 4,
   "metadata": {},
   "outputs": [],
   "source": [
    "def createMagicSquare(size):\n",
    "    N = size\n",
    "    magic_square = np.zeros((N,N), dtype=int)\n",
    "\n",
    "    n = 1\n",
    "    i, j = 0, N//2\n",
    "\n",
    "    while n <= N**2:\n",
    "        magic_square[i, j] = n\n",
    "        n += 1\n",
    "        newi, newj = (i-1) % N, (j+1)% N\n",
    "        if magic_square[newi, newj]:\n",
    "            i += 1\n",
    "        else:\n",
    "            i, j = newi, newj\n",
    "    \n",
    "    return magic_square"
   ]
  },
  {
   "cell_type": "code",
   "execution_count": 5,
   "metadata": {},
   "outputs": [],
   "source": [
    "magicSquare = createMagicSquare(Size)"
   ]
  },
  {
   "cell_type": "code",
   "execution_count": 6,
   "metadata": {},
   "outputs": [
    {
     "data": {
      "text/plain": [
       "array([[17, 24,  1,  8, 15],\n",
       "       [23,  5,  7, 14, 16],\n",
       "       [ 4,  6, 13, 20, 22],\n",
       "       [10, 12, 19, 21,  3],\n",
       "       [11, 18, 25,  2,  9]])"
      ]
     },
     "execution_count": 6,
     "metadata": {},
     "output_type": "execute_result"
    }
   ],
   "source": [
    "magicSquare"
   ]
  },
  {
   "cell_type": "markdown",
   "metadata": {},
   "source": [
    "## Фраза"
   ]
  },
  {
   "cell_type": "markdown",
   "metadata": {},
   "source": [
    "Поскольку длина нашей фразы больше размерности квадрата,\n",
    "разобьем фразу на несколько квадратов"
   ]
  },
  {
   "cell_type": "code",
   "execution_count": 7,
   "metadata": {},
   "outputs": [],
   "source": [
    "def chunkstring(string, length):\n",
    "    return (string[0+i:length+i] for i in range(0, len(string), length))"
   ]
  },
  {
   "cell_type": "code",
   "execution_count": 8,
   "metadata": {},
   "outputs": [],
   "source": [
    "phrasesBlocks = list(chunkstring(phrase, Size**2))"
   ]
  },
  {
   "cell_type": "code",
   "execution_count": 9,
   "metadata": {},
   "outputs": [
    {
     "data": {
      "text/plain": [
       "['But if your life is such ', 'a big joke Why should I c', 'are?']"
      ]
     },
     "execution_count": 9,
     "metadata": {},
     "output_type": "execute_result"
    }
   ],
   "source": [
    "phrasesBlocks"
   ]
  },
  {
   "cell_type": "markdown",
   "metadata": {},
   "source": [
    "## Подстановка в квадрат"
   ]
  },
  {
   "cell_type": "code",
   "execution_count": 10,
   "metadata": {},
   "outputs": [],
   "source": [
    "def turnInMagicSquare(square, phrase):\n",
    "    sz = len(square)\n",
    "    phraseSquare = np.empty((sz, sz), dtype='str')\n",
    "    for row in range(sz):\n",
    "        for col in range(sz):\n",
    "            phraseSquare[row][col] = phrase[square[row][col] - 1]\n",
    "    return phraseSquare"
   ]
  },
  {
   "cell_type": "code",
   "execution_count": 11,
   "metadata": {},
   "outputs": [],
   "source": [
    "cryptSquares = []\n",
    "for block in phrasesBlocks:\n",
    "    while len(block) < Size ** 2:\n",
    "        block += ' '\n",
    "    cryptSquares.append(turnInMagicSquare(magicSquare, block))"
   ]
  },
  {
   "cell_type": "code",
   "execution_count": 12,
   "metadata": {},
   "outputs": [
    {
     "data": {
      "text/plain": [
       "[array([[' ', 'h', 'B', 'y', 'f'],\n",
       "        ['c', 'i', ' ', 'i', 'e'],\n",
       "        [' ', 'f', 'l', ' ', 'u'],\n",
       "        ['u', ' ', 's', 's', 't'],\n",
       "        ['r', 'i', ' ', 'u', 'o']], dtype='<U1'),\n",
       " array([['h', ' ', 'a', 'o', ' '],\n",
       "        ['I', 'g', 'j', 'y', 's'],\n",
       "        ['i', ' ', 'h', 'l', ' '],\n",
       "        ['e', 'W', 'u', 'd', 'b'],\n",
       "        [' ', 'o', 'c', ' ', 'k']], dtype='<U1'),\n",
       " array([[' ', ' ', 'a', ' ', ' '],\n",
       "        [' ', ' ', ' ', ' ', ' '],\n",
       "        ['?', ' ', ' ', ' ', ' '],\n",
       "        [' ', ' ', ' ', ' ', 'e'],\n",
       "        [' ', ' ', ' ', 'r', ' ']], dtype='<U1')]"
      ]
     },
     "execution_count": 12,
     "metadata": {},
     "output_type": "execute_result"
    }
   ],
   "source": [
    "cryptSquares"
   ]
  },
  {
   "cell_type": "markdown",
   "metadata": {},
   "source": [
    "## Раскодировка"
   ]
  },
  {
   "cell_type": "code",
   "execution_count": 13,
   "metadata": {},
   "outputs": [],
   "source": [
    "decryptedBlocks = ''\n",
    "for crypted in cryptSquares:\n",
    "    decrBlock = ''\n",
    "    for decNum in range(Size**2):\n",
    "        num = decNum + 1\n",
    "        for i in range(Size):\n",
    "            for j in range(Size):\n",
    "                if magicSquare[i][j] == num:\n",
    "                    decrBlock += crypted[i][j]\n",
    "    decryptedBlocks += decrBlock"
   ]
  },
  {
   "cell_type": "code",
   "execution_count": 14,
   "metadata": {},
   "outputs": [
    {
     "name": "stdout",
     "output_type": "stream",
     "text": [
      "But if your life is such a big joke Why should I care?                     \n"
     ]
    }
   ],
   "source": [
    "print(decryptedBlocks)"
   ]
  },
  {
   "cell_type": "markdown",
   "metadata": {},
   "source": [
    "# RSA"
   ]
  },
  {
   "cell_type": "code",
   "execution_count": 43,
   "metadata": {},
   "outputs": [],
   "source": [
    "p = 827\n",
    "q = 311\n",
    "word = 'Анджеевский'"
   ]
  },
  {
   "cell_type": "markdown",
   "metadata": {},
   "source": [
    "## Расширенный алгоритм Евклида"
   ]
  },
  {
   "cell_type": "code",
   "execution_count": 85,
   "metadata": {},
   "outputs": [],
   "source": [
    "def bezout(a, b):\n",
    "    '''An implementation of extended Euclidean algorithm.\n",
    "    Returns integer x, y and gcd(a, b) for Bezout equation:\n",
    "        ax + by = gcd(a, b).\n",
    "    '''\n",
    "    x, xx, y, yy = 1, 0, 0, 1\n",
    "    while b:\n",
    "        q = a // b\n",
    "        a, b = b, a % b\n",
    "        x, xx = xx, x - xx*q\n",
    "        y, yy = yy, y - yy*q\n",
    "    return (x, y, a)"
   ]
  },
  {
   "cell_type": "code",
   "execution_count": 86,
   "metadata": {},
   "outputs": [],
   "source": [
    "def calcEuler(p, q):\n",
    "    return (p - 1) * (q - 1)"
   ]
  },
  {
   "cell_type": "code",
   "execution_count": 87,
   "metadata": {},
   "outputs": [],
   "source": [
    "n = p * q"
   ]
  },
  {
   "cell_type": "code",
   "execution_count": 88,
   "metadata": {},
   "outputs": [],
   "source": [
    "def chooseE(n):\n",
    "    euler = calcEuler(p , q)\n",
    "    variants = [i for i in range(2, n - 1)]\n",
    "    length = len(variants)\n",
    "    while(length):\n",
    "        index = random.randint(0, length)\n",
    "        nod = bezout(euler, variants[index])[2]\n",
    "        if nod == 1:\n",
    "            return variants[index]\n",
    "        else:\n",
    "            del(variants[index])\n",
    "            length -= 1"
   ]
  },
  {
   "cell_type": "code",
   "execution_count": 89,
   "metadata": {},
   "outputs": [],
   "source": [
    "openKey = chooseE(n)"
   ]
  },
  {
   "cell_type": "code",
   "execution_count": 90,
   "metadata": {},
   "outputs": [
    {
     "data": {
      "text/plain": [
       "27053"
      ]
     },
     "execution_count": 90,
     "metadata": {},
     "output_type": "execute_result"
    }
   ],
   "source": [
    "openKey"
   ]
  },
  {
   "cell_type": "markdown",
   "metadata": {},
   "source": [
    "## Проверка e"
   ]
  },
  {
   "cell_type": "code",
   "execution_count": 104,
   "metadata": {},
   "outputs": [
    {
     "data": {
      "text/plain": [
       "1"
      ]
     },
     "execution_count": 104,
     "metadata": {},
     "output_type": "execute_result"
    }
   ],
   "source": [
    "bezout(openKey, calcEuler(p, q))[2]"
   ]
  },
  {
   "cell_type": "code",
   "execution_count": 97,
   "metadata": {},
   "outputs": [],
   "source": [
    "def chooseD(e):\n",
    "    euler = calcEuler(p , q)\n",
    "    bzt = bezout(euler, e)\n",
    "    if bzt[1] >= 0:\n",
    "        return bzt[1]\n",
    "    else:\n",
    "        return euler + bzt[1]"
   ]
  },
  {
   "cell_type": "code",
   "execution_count": 98,
   "metadata": {},
   "outputs": [],
   "source": [
    "closeKey = chooseD(openKey)"
   ]
  },
  {
   "cell_type": "code",
   "execution_count": 99,
   "metadata": {},
   "outputs": [
    {
     "data": {
      "text/plain": [
       "56857"
      ]
     },
     "execution_count": 99,
     "metadata": {},
     "output_type": "execute_result"
    }
   ],
   "source": [
    "closeKey"
   ]
  },
  {
   "cell_type": "markdown",
   "metadata": {},
   "source": [
    "## Проверка d "
   ]
  },
  {
   "cell_type": "code",
   "execution_count": 101,
   "metadata": {},
   "outputs": [
    {
     "data": {
      "text/plain": [
       "1"
      ]
     },
     "execution_count": 101,
     "metadata": {},
     "output_type": "execute_result"
    }
   ],
   "source": [
    "(openKey * closeKey) % calcEuler(p , q)"
   ]
  },
  {
   "cell_type": "markdown",
   "metadata": {},
   "source": [
    "## Шифрование"
   ]
  },
  {
   "cell_type": "code",
   "execution_count": 114,
   "metadata": {},
   "outputs": [],
   "source": [
    "codes = [ord(i) for i in word]"
   ]
  },
  {
   "cell_type": "code",
   "execution_count": 115,
   "metadata": {},
   "outputs": [
    {
     "data": {
      "text/plain": [
       "[1040, 1085, 1076, 1078, 1077, 1077, 1074, 1089, 1082, 1080, 1081]"
      ]
     },
     "execution_count": 115,
     "metadata": {},
     "output_type": "execute_result"
    }
   ],
   "source": [
    "codes"
   ]
  },
  {
   "cell_type": "code",
   "execution_count": 116,
   "metadata": {},
   "outputs": [],
   "source": [
    "crypted = [pow(i, openKey, n) for i in codes]"
   ]
  },
  {
   "cell_type": "code",
   "execution_count": 117,
   "metadata": {},
   "outputs": [
    {
     "data": {
      "text/plain": [
       "[96878,\n",
       " 239442,\n",
       " 137660,\n",
       " 167646,\n",
       " 29704,\n",
       " 29704,\n",
       " 156348,\n",
       " 73152,\n",
       " 72771,\n",
       " 192024,\n",
       " 245562]"
      ]
     },
     "execution_count": 117,
     "metadata": {},
     "output_type": "execute_result"
    }
   ],
   "source": [
    "crypted"
   ]
  },
  {
   "cell_type": "markdown",
   "metadata": {},
   "source": [
    "# Дешифрование"
   ]
  },
  {
   "cell_type": "code",
   "execution_count": 119,
   "metadata": {},
   "outputs": [],
   "source": [
    "decrypted = [pow(i, closeKey, n) for i in crypted]"
   ]
  },
  {
   "cell_type": "code",
   "execution_count": 120,
   "metadata": {},
   "outputs": [
    {
     "data": {
      "text/plain": [
       "[1040, 1085, 1076, 1078, 1077, 1077, 1074, 1089, 1082, 1080, 1081]"
      ]
     },
     "execution_count": 120,
     "metadata": {},
     "output_type": "execute_result"
    }
   ],
   "source": [
    "decrypted"
   ]
  },
  {
   "cell_type": "code",
   "execution_count": 121,
   "metadata": {},
   "outputs": [],
   "source": [
    "result = ''\n",
    "for i in decrypted:\n",
    "    result += chr(i)"
   ]
  },
  {
   "cell_type": "code",
   "execution_count": 122,
   "metadata": {},
   "outputs": [
    {
     "data": {
      "text/plain": [
       "'Анджеевский'"
      ]
     },
     "execution_count": 122,
     "metadata": {},
     "output_type": "execute_result"
    }
   ],
   "source": [
    "result"
   ]
  },
  {
   "cell_type": "code",
   "execution_count": null,
   "metadata": {},
   "outputs": [],
   "source": []
  }
 ],
 "metadata": {
  "kernelspec": {
   "display_name": "Python 3",
   "language": "python",
   "name": "python3"
  },
  "language_info": {
   "codemirror_mode": {
    "name": "ipython",
    "version": 3
   },
   "file_extension": ".py",
   "mimetype": "text/x-python",
   "name": "python",
   "nbconvert_exporter": "python",
   "pygments_lexer": "ipython3",
   "version": "3.6.4"
  }
 },
 "nbformat": 4,
 "nbformat_minor": 2
}
